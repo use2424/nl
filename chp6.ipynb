{
 "cells": [
  {
   "cell_type": "code",
   "execution_count": null,
   "metadata": {
    "colab": {
     "base_uri": "https://localhost:8080/"
    },
    "id": "drao5R8J554f",
    "outputId": "d979dfc1-ab5f-47e5-ce04-7cbf7b952581"
   },
   "outputs": [
    {
     "name": "stdout",
     "output_type": "stream",
     "text": [
      "Accuracy based on last letter: 0.76\n"
     ]
    },
    {
     "name": "stderr",
     "output_type": "stream",
     "text": [
      "[nltk_data] Downloading package names to /root/nltk_data...\n",
      "[nltk_data]   Package names is already up-to-date!\n"
     ]
    }
   ],
   "source": [
    "import nltk\n",
    "from nltk.corpus import names\n",
    "import random\n",
    "\n",
    "# Prepare the data\n",
    "nltk.download('names')\n",
    "male_names = [(name, 'male') for name in names.words('male.txt')]\n",
    "female_names = [(name, 'female') for name in names.words('female.txt')]\n",
    "names_data = male_names + female_names\n",
    "random.shuffle(names_data)\n",
    "\n",
    "# Feature extractor\n",
    "def last_letter_features(name):\n",
    "    # The feature extractor should return a dictionary\n",
    "    return {'last_letter': name[-1].lower()}\n",
    "\n",
    "# Create featuresets with dictionaries\n",
    "featuresets = [(last_letter_features(name), gender) for (name, gender) in names_data]\n",
    "train_set, test_set = featuresets[:5000], featuresets[5000:]\n",
    "\n",
    "# Train classifier\n",
    "classifier = nltk.NaiveBayesClassifier.train(train_set)\n",
    "\n",
    "# Evaluate accuracy\n",
    "accuracy = nltk.classify.accuracy(classifier, test_set)\n",
    "print(f\"Accuracy based on last letter: {accuracy:.2f}\")"
   ]
  },
  {
   "cell_type": "code",
   "execution_count": null,
   "metadata": {
    "id": "9zjcgbyE7rm4"
   },
   "outputs": [],
   "source": [
    "# Feature extractor\n",
    "def last_letter_features(name):\n",
    "    return {'last_letter': name[-1].lower()}\n",
    "\n",
    "featuresets = [(last_letter_features(name), gender) for (name, gender) in names_data]\n",
    "train_set, test_set = featuresets[:5000], featuresets[5000:]\n",
    "\n",
    "# Train classifier\n",
    "classifier = nltk.NaiveBayesClassifier.train(train_set)"
   ]
  },
  {
   "cell_type": "code",
   "execution_count": null,
   "metadata": {
    "colab": {
     "base_uri": "https://localhost:8080/"
    },
    "id": "TyVS3Lbv7rp2",
    "outputId": "a7f71a67-a092-465f-ecab-be9a5be169ca"
   },
   "outputs": [
    {
     "name": "stdout",
     "output_type": "stream",
     "text": [
      "Accuracy based on last letter: 0.76\n"
     ]
    },
    {
     "name": "stderr",
     "output_type": "stream",
     "text": [
      "[nltk_data] Downloading package names to /root/nltk_data...\n",
      "[nltk_data]   Package names is already up-to-date!\n"
     ]
    }
   ],
   "source": [
    "#Using the names corpus in NLTK, build a gender classifier that predicts whether a name is male or female based on the last letter of the name. Evaluate its accuracy. \n",
    "import nltk\n",
    "from nltk.corpus import names\n",
    "import random\n",
    "\n",
    "# Prepare the data\n",
    "nltk.download('names')\n",
    "male_names = [(name, 'male') for name in names.words('male.txt')]\n",
    "female_names = [(name, 'female') for name in names.words('female.txt')]\n",
    "names_data = male_names + female_names\n",
    "random.shuffle(names_data)\n",
    "\n",
    "# Feature extractor\n",
    "def last_letter_features(name):\n",
    "    # The feature extractor should return a dictionary\n",
    "    return {'last_letter': name[-1].lower()}\n",
    "\n",
    "# Create featuresets with dictionaries\n",
    "featuresets = [(last_letter_features(name), gender) for (name, gender) in names_data]\n",
    "train_set, test_set = featuresets[:5000], featuresets[5000:]\n",
    "\n",
    "# Train classifier\n",
    "classifier = nltk.NaiveBayesClassifier.train(train_set)\n",
    "\n",
    "# Evaluate accuracy\n",
    "accuracy = nltk.classify.accuracy(classifier, test_set)\n",
    "print(f\"Accuracy based on last letter: {accuracy:.2f}\")"
   ]
  },
  {
   "cell_type": "code",
   "execution_count": null,
   "metadata": {
    "colab": {
     "base_uri": "https://localhost:8080/"
    },
    "id": "yTIJkfUy7rtO",
    "outputId": "aed17445-8e40-432a-edf3-8ca31b943f71"
   },
   "outputs": [
    {
     "name": "stdout",
     "output_type": "stream",
     "text": [
      "Enhanced accuracy: 0.77\n"
     ]
    }
   ],
   "source": [
    "#Enhance the gender classifier by including features such as the first letter and the length of the name. Evaluate if these features improve the classifier's accuracy\n",
    "# Enhanced feature extractor\n",
    "def name_features(name):\n",
    "    return {\n",
    "        'last_letter': name[-1].lower(),\n",
    "        'first_letter': name[0].lower(),\n",
    "        'length': len(name)\n",
    "    }\n",
    "\n",
    "featuresets = [(name_features(name), gender) for (name, gender) in names_data]\n",
    "train_set, test_set = featuresets[:5000], featuresets[5000:]\n",
    "\n",
    "# Train classifier\n",
    "classifier = nltk.NaiveBayesClassifier.train(train_set)\n",
    "\n",
    "# Evaluate accuracy\n",
    "accuracy = nltk.classify.accuracy(classifier, test_set)\n",
    "print(f\"Enhanced accuracy: {accuracy:.2f}\")\n"
   ]
  },
  {
   "cell_type": "code",
   "execution_count": null,
   "metadata": {
    "colab": {
     "base_uri": "https://localhost:8080/"
    },
    "id": "TQyMf70H7rwQ",
    "outputId": "e54a9476-47b2-41d2-9532-1e9b0155dc7b"
   },
   "outputs": [
    {
     "name": "stderr",
     "output_type": "stream",
     "text": [
      "[nltk_data] Downloading package movie_reviews to /root/nltk_data...\n",
      "[nltk_data]   Unzipping corpora/movie_reviews.zip.\n"
     ]
    },
    {
     "name": "stdout",
     "output_type": "stream",
     "text": [
      "Movie review classifier accuracy: 0.75\n"
     ]
    }
   ],
   "source": [
    "#Using the movie_reviews corpus in NLTK, build a document classifier to categorize movie reviews as positive or negative. Evaluate its performance. \n",
    "from nltk.corpus import movie_reviews\n",
    "import random\n",
    "\n",
    "# Prepare the data\n",
    "nltk.download('movie_reviews')\n",
    "documents = [(list(movie_reviews.words(fileid)), category)\n",
    "             for category in movie_reviews.categories()\n",
    "             for fileid in movie_reviews.fileids(category)]\n",
    "random.shuffle(documents)\n",
    "\n",
    "# Feature extractor\n",
    "def document_features(words):\n",
    "    return {word: True for word in words}\n",
    "\n",
    "featuresets = [(document_features(words), category) for (words, category) in documents]\n",
    "train_set, test_set = featuresets[:1600], featuresets[1600:]\n",
    "\n",
    "# Train classifier\n",
    "classifier = nltk.NaiveBayesClassifier.train(train_set)\n",
    "\n",
    "# Evaluate accuracy\n",
    "accuracy = nltk.classify.accuracy(classifier, test_set)\n",
    "print(f\"Movie review classifier accuracy: {accuracy:.2f}\")\n"
   ]
  },
  {
   "cell_type": "code",
   "execution_count": null,
   "metadata": {
    "id": "i-G75j-88Asd"
   },
   "outputs": [],
   "source": []
  }
 ],
 "metadata": {
  "colab": {
   "provenance": []
  },
  "kernelspec": {
   "display_name": "Python 3 (ipykernel)",
   "language": "python",
   "name": "python3"
  },
  "language_info": {
   "codemirror_mode": {
    "name": "ipython",
    "version": 3
   },
   "file_extension": ".py",
   "mimetype": "text/x-python",
   "name": "python",
   "nbconvert_exporter": "python",
   "pygments_lexer": "ipython3",
   "version": "3.11.4"
  }
 },
 "nbformat": 4,
 "nbformat_minor": 1
}
