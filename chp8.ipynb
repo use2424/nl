{
 "cells": [
  {
   "cell_type": "code",
   "execution_count": null,
   "metadata": {
    "colab": {
     "base_uri": "https://localhost:8080/"
    },
    "id": "KrZRp4N-8nfn",
    "outputId": "b1d6b8d3-795e-469a-f017-5c81bf8ebe4b"
   },
   "outputs": [
    {
     "name": "stdout",
     "output_type": "stream",
     "text": [
      "             S                     \n",
      "      _______|_______               \n",
      "     |               VP            \n",
      "     |        _______|___           \n",
      "     |       |           PP        \n",
      "     |       |    _______|___       \n",
      "     NP      |   |           NP    \n",
      "  ___|___    |   |        ___|___   \n",
      "Det      N   V   P      Det      N \n",
      " |       |   |   |       |       |  \n",
      "The     cat sat  on     The     mat\n",
      "\n"
     ]
    }
   ],
   "source": [
    "import nltk\n",
    "from nltk import CFG\n",
    "\n",
    "# Define the CFG\n",
    "grammar = CFG.fromstring(\"\"\"\n",
    "  S -> NP VP\n",
    "  NP -> Det N\n",
    "  VP -> V PP\n",
    "  PP -> P NP\n",
    "  Det -> 'The'\n",
    "  N -> 'cat' | 'mat'\n",
    "  V -> 'sat'\n",
    "  P -> 'on'\n",
    "\"\"\")\n",
    "\n",
    "# Define the sentence (fix 'the' to 'The')\n",
    "sentence = ['The', 'cat', 'sat', 'on', 'The', 'mat']\n",
    "\n",
    "# Create a parser\n",
    "parser = nltk.ChartParser(grammar)\n",
    "\n",
    "# Generate and display the parse tree\n",
    "for tree in parser.parse(sentence):\n",
    "    tree.pretty_print()\n"
   ]
  },
  {
   "cell_type": "code",
   "execution_count": null,
   "metadata": {
    "id": "Yiw0PtDk-Bhz"
   },
   "outputs": [],
   "source": [
    "import nltk\n",
    "from nltk import CFG\n",
    "\n",
    "# Define the CFG\n",
    "grammar = CFG.fromstring(\"\"\"\n",
    "  S -> NP VP\n",
    "  NP -> Det N\n",
    "  VP -> V PP | V\n",
    "  PP -> P NP\n",
    "  Det -> 'The' | 'I' | 'the'\n",
    "  N -> 'cat' | 'man' | 'telescope'\n",
    "  V -> 'saw' | 'ate'\n",
    "  P -> 'with'\n",
    "\"\"\")\n",
    "\n",
    "# Function to return all parse trees\n",
    "def get_parse_trees(sentence, grammar):\n",
    "    parser = nltk.ChartParser(grammar)\n",
    "    trees = list(parser.parse(sentence))\n",
    "    return trees\n",
    "\n",
    "# Sentence\n",
    "sentence = ['I', 'saw', 'the', 'man', 'with', 'the', 'telescope']\n",
    "\n",
    "# Get parse trees\n",
    "trees = get_parse_trees(sentence, grammar)\n",
    "\n",
    "# Print all trees\n",
    "for tree in trees:\n",
    "    tree.pretty_print()"
   ]
  },
  {
   "cell_type": "code",
   "execution_count": null,
   "metadata": {
    "id": "pmM6I5dZ-Bkq"
   },
   "outputs": [],
   "source": [
    "import nltk\n",
    "from nltk import CFG\n",
    "\n",
    "# Define a simple CFG\n",
    "grammar = CFG.fromstring(\"\"\"\n",
    "  S -> NP VP\n",
    "  NP -> Det N\n",
    "  VP -> V NP\n",
    "  Det -> 'She' | 'a'\n",
    "  N -> 'sandwich'\n",
    "  V -> 'eats'\n",
    "\"\"\")\n",
    "\n",
    "# Recursive descent parsing\n",
    "def recursive_descent_parse(sentence, grammar):\n",
    "    parser = nltk.RecursiveDescentParser(grammar)\n",
    "    for tree in parser.parse(sentence):\n",
    "        tree.pretty_print()\n",
    "\n",
    "# Sentence\n",
    "sentence = ['She', 'eats', 'a', 'sandwich']\n",
    "\n",
    "# Parse using recursive descent parser\n",
    "recursive_descent_parse(sentence, grammar)\n"
   ]
  },
  {
   "cell_type": "code",
   "execution_count": null,
   "metadata": {
    "colab": {
     "base_uri": "https://localhost:8080/"
    },
    "id": "lybOlThn-Bnm",
    "outputId": "946cb8d8-9985-4c7c-d88c-969d766b5442"
   },
   "outputs": [
    {
     "name": "stderr",
     "output_type": "stream",
     "text": [
      "[nltk_data] Downloading package punkt_tab to /root/nltk_data...\n",
      "[nltk_data]   Unzipping tokenizers/punkt_tab.zip.\n",
      "[nltk_data] Downloading package averaged_perceptron_tagger_eng to\n",
      "[nltk_data]     /root/nltk_data...\n",
      "[nltk_data]   Unzipping taggers/averaged_perceptron_tagger_eng.zip.\n"
     ]
    },
    {
     "name": "stdout",
     "output_type": "stream",
     "text": [
      "                                S                                          \n",
      "     ___________________________|_______________________________            \n",
      "    |        |     |            NP               NP             NP         \n",
      "    |        |     |     _______|________        |       _______|______     \n",
      "jumps/VBZ over/IN ./. The/DT quick/JJ brown/NN fox/NN the/DT lazy/JJ dog/NN\n",
      "\n"
     ]
    }
   ],
   "source": [
    "import nltk\n",
    "from nltk import CFG\n",
    "import nltk\n",
    "nltk.download('punkt_tab')\n",
    "nltk.download('averaged_perceptron_tagger_eng')\n",
    "\n",
    "# Define the chunk grammar for NP\n",
    "chunk_grammar = r\"\"\"\n",
    "  NP: {<DT>?<JJ>*<NN>}\n",
    "\"\"\"\n",
    "\n",
    "# Sentence\n",
    "sentence = nltk.word_tokenize(\"The quick brown fox jumps over the lazy dog.\")\n",
    "tagged_sentence = nltk.pos_tag(sentence)\n",
    "\n",
    "# Create a chunk parser\n",
    "chunk_parser = nltk.RegexpParser(chunk_grammar)\n",
    "\n",
    "# Parse the sentence and extract NPs\n",
    "tree = chunk_parser.parse(tagged_sentence)\n",
    "tree.pretty_print()\n"
   ]
  },
  {
   "cell_type": "code",
   "execution_count": null,
   "metadata": {
    "colab": {
     "base_uri": "https://localhost:8080/"
    },
    "id": "71KdG6ad-Bqb",
    "outputId": "f5ed237b-4b93-4759-d8a9-6e8b8d9da287"
   },
   "outputs": [
    {
     "name": "stdout",
     "output_type": "stream",
     "text": [
      "                      S                                  \n",
      "   ___________________|___________________________        \n",
      "  |      |      |     |      |     |    VP        VP     \n",
      "  |      |      |     |      |     |    |         |       \n",
      "The/DT cat/NN on/IN the/DT mat/NN ./. is/VBZ sleeping/VBG\n",
      "\n"
     ]
    }
   ],
   "source": [
    "import nltk\n",
    "from nltk import CFG\n",
    "\n",
    "# Define the chunk grammar for VP\n",
    "chunk_grammar = r\"\"\"\n",
    "  VP: {<VB.*><NP|PP>*}\n",
    "\"\"\"\n",
    "\n",
    "# Sentence\n",
    "sentence = nltk.word_tokenize(\"The cat is sleeping on the mat.\")\n",
    "tagged_sentence = nltk.pos_tag(sentence)\n",
    "\n",
    "# Create a chunk parser\n",
    "chunk_parser = nltk.RegexpParser(chunk_grammar)\n",
    "\n",
    "# Parse the sentence and extract VPs\n",
    "tree = chunk_parser.parse(tagged_sentence)\n",
    "tree.pretty_print()\n"
   ]
  },
  {
   "cell_type": "code",
   "execution_count": null,
   "metadata": {
    "colab": {
     "base_uri": "https://localhost:8080/"
    },
    "id": "0XllyY79-Bs6",
    "outputId": "93ccc718-6d7d-4419-ec73-5b21ea08e319"
   },
   "outputs": [
    {
     "name": "stdout",
     "output_type": "stream",
     "text": [
      "              S               \n",
      "      ________|_____           \n",
      "     |              VP        \n",
      "     |         _____|___       \n",
      "     NP       |         NP    \n",
      "  ___|___     |      ___|___   \n",
      "Det      N    V    Det      N \n",
      " |       |    |     |       |  \n",
      "The     cat chased  a      dog\n",
      "\n"
     ]
    }
   ],
   "source": [
    "import nltk\n",
    "from nltk import PCFG\n",
    "\n",
    "# Define a simple PCFG\n",
    "grammar = PCFG.fromstring(\"\"\"\n",
    "  S -> NP VP [1.0]\n",
    "  NP -> Det N [0.5] | Det N PP [0.5]\n",
    "  VP -> V NP [0.6] | V [0.4]\n",
    "  PP -> P NP [1.0]\n",
    "  Det -> 'The' [0.6] | 'a' [0.4]\n",
    "  N -> 'cat' [0.4] | 'dog' [0.6]\n",
    "  V -> 'chased' [0.7] | 'saw' [0.3]\n",
    "  P -> 'on' [0.5] | 'with' [0.5]\n",
    "\"\"\")\n",
    "\n",
    "# Sentence\n",
    "sentence = ['The', 'cat', 'chased', 'a', 'dog']\n",
    "\n",
    "# Parse the sentence using PCFG\n",
    "parser = nltk.ViterbiParser(grammar)\n",
    "for tree in parser.parse(sentence):\n",
    "    tree.pretty_print()\n"
   ]
  },
  {
   "cell_type": "code",
   "execution_count": null,
   "metadata": {
    "colab": {
     "base_uri": "https://localhost:8080/"
    },
    "id": "_BSiHXCe-Bvn",
    "outputId": "0cac2716-b433-4533-cc22-d535ebfee0c7"
   },
   "outputs": [
    {
     "name": "stdout",
     "output_type": "stream",
     "text": [
      "                                S                                          \n",
      "     ___________________________|_______________________________            \n",
      "    |        |     |            NP               NP             NP         \n",
      "    |        |     |     _______|________        |       _______|______     \n",
      "jumps/VBZ over/IN ./. The/DT quick/JJ brown/NN fox/NN the/DT lazy/JJ dog/NN\n",
      "\n"
     ]
    }
   ],
   "source": [
    "import nltk\n",
    "from nltk import CFG\n",
    "\n",
    "# Define the chunk grammar for NP\n",
    "chunk_grammar = r\"\"\"\n",
    "  NP: {<DT>?<JJ>*<NN>}\n",
    "\"\"\"\n",
    "\n",
    "# Sentence\n",
    "sentence = nltk.word_tokenize(\"The quick brown fox jumps over the lazy dog.\")\n",
    "tagged_sentence = nltk.pos_tag(sentence)\n",
    "\n",
    "# Create a chunk parser\n",
    "chunk_parser = nltk.RegexpParser(chunk_grammar)\n",
    "\n",
    "# Parse the sentence\n",
    "tree = chunk_parser.parse(tagged_sentence)\n",
    "\n",
    "# Visualize the chunk tree using pretty_print\n",
    "tree.pretty_print() # Changed from tree.draw() to tree.pretty_print()"
   ]
  },
  {
   "cell_type": "code",
   "execution_count": null,
   "metadata": {
    "colab": {
     "base_uri": "https://localhost:8080/"
    },
    "id": "6TQFmaDR-Byo",
    "outputId": "59277fcd-e967-4fc4-e6c5-bae1e037552b"
   },
   "outputs": [
    {
     "name": "stdout",
     "output_type": "stream",
     "text": [
      "                        S                    \n",
      "   _____________________|__________________   \n",
      "The/DT cat/NN sat/VBD on/IN the/DT mat/NN ./.\n",
      "\n"
     ]
    }
   ],
   "source": [
    "import nltk\n",
    "from nltk import CFG\n",
    "\n",
    "# Define the chunk grammar for PP\n",
    "chunk_grammar = r\"\"\"\n",
    "  PP: {<IN><NP>}\n",
    "\"\"\"\n",
    "\n",
    "# Sentence\n",
    "sentence = nltk.word_tokenize(\"The cat sat on the mat.\")\n",
    "tagged_sentence = nltk.pos_tag(sentence)\n",
    "\n",
    "# Create a chunk parser\n",
    "chunk_parser = nltk.RegexpParser(chunk_grammar)\n",
    "\n",
    "# Parse the sentence and extract PPs\n",
    "tree = chunk_parser.parse(tagged_sentence)\n",
    "tree.pretty_print()\n"
   ]
  },
  {
   "cell_type": "code",
   "execution_count": null,
   "metadata": {
    "colab": {
     "base_uri": "https://localhost:8080/"
    },
    "id": "8iMU7BJg-B1O",
    "outputId": "463eb546-d29a-4cae-d66e-c6c3b937294c"
   },
   "outputs": [
    {
     "name": "stdout",
     "output_type": "stream",
     "text": [
      "                                 S                                                   \n",
      "   ______________________________|_________________________________________           \n",
      "  |        |        |      |     |           ADJP           ADJP          ADJP       \n",
      "  |        |        |      |     |      ______|______        |        _____|_____     \n",
      "The/DT jumps/VBZ over/IN the/DT ./. quick/JJ      brown/NN fox/NN lazy/JJ      dog/NN\n",
      "\n"
     ]
    }
   ],
   "source": [
    "import nltk\n",
    "from nltk import CFG\n",
    "\n",
    "# Define the chunk grammar for ADJP\n",
    "chunk_grammar = r\"\"\"\n",
    "  ADJP: {<JJ>*<NN>}\n",
    "\"\"\"\n",
    "\n",
    "# Sentence\n",
    "sentence = nltk.word_tokenize(\"The quick brown fox jumps over the lazy dog.\")\n",
    "tagged_sentence = nltk.pos_tag(sentence)\n",
    "\n",
    "# Create a chunk parser\n",
    "chunk_parser = nltk.RegexpParser(chunk_grammar)\n",
    "\n",
    "# Parse the sentence and extract ADJPs\n",
    "tree = chunk_parser.parse(tagged_sentence)\n",
    "tree.pretty_print()\n"
   ]
  },
  {
   "cell_type": "code",
   "execution_count": null,
   "metadata": {
    "colab": {
     "base_uri": "https://localhost:8080/"
    },
    "id": "m-eMaqNU-B39",
    "outputId": "196c6450-87c9-4c68-a6a3-2fa66049dd7d"
   },
   "outputs": [
    {
     "name": "stdout",
     "output_type": "stream",
     "text": [
      "                      S                                  \n",
      "   ___________________|___________________________        \n",
      "  |      |      |     |      |     |    VP        VP     \n",
      "  |      |      |     |      |     |    |         |       \n",
      "The/DT cat/NN on/IN the/DT mat/NN ./. is/VBZ sleeping/VBG\n",
      "\n"
     ]
    }
   ],
   "source": [
    "import nltk\n",
    "from nltk import CFG\n",
    "\n",
    "# Define the chunk grammar for VP\n",
    "chunk_grammar = r\"\"\"\n",
    "  VP: {<VB.*><NP|PP>*}\n",
    "\"\"\"\n",
    "\n",
    "# Sentence\n",
    "sentence = nltk.word_tokenize(\"The cat is sleeping on the mat.\")\n",
    "tagged_sentence = nltk.pos_tag(sentence)\n",
    "\n",
    "# Create a chunk parser\n",
    "chunk_parser = nltk.RegexpParser(chunk_grammar)\n",
    "\n",
    "# Parse the sentence and extract VPs\n",
    "tree = chunk_parser.parse(tagged_sentence)\n",
    "tree.pretty_print()\n"
   ]
  },
  {
   "cell_type": "code",
   "execution_count": null,
   "metadata": {
    "colab": {
     "base_uri": "https://localhost:8080/"
    },
    "id": "ar7eRPQB-B67",
    "outputId": "beca9ef9-c78f-4c67-d1eb-db3934a8f73b"
   },
   "outputs": [
    {
     "name": "stdout",
     "output_type": "stream",
     "text": [
      "                                                S                                                          \n",
      "   _____________________________________________|_______________________________________________            \n",
      "  |       |        |         |     |            NP                       NP                     NP         \n",
      "  |       |        |         |     |     _______|________         _______|_______        _______|______     \n",
      "fox/NN with/IN jumped/VBD over/IN ./. The/DT quick/JJ brown/NN the/DT long/JJ tail/NN the/DT lazy/JJ dog/NN\n",
      "\n"
     ]
    }
   ],
   "source": [
    "import nltk\n",
    "from nltk import CFG\n",
    "\n",
    "# Define a chunk grammar for complex NPs\n",
    "chunk_grammar = r\"\"\"\n",
    "  NP: {<DT><JJ>*<NN><PP>*}\n",
    "\"\"\"\n",
    "\n",
    "# Sentence\n",
    "sentence = nltk.word_tokenize(\"The quick brown fox with the long tail jumped over the lazy dog.\")\n",
    "tagged_sentence = nltk.pos_tag(sentence)\n",
    "\n",
    "# Create a chunk parser\n",
    "chunk_parser = nltk.RegexpParser(chunk_grammar)\n",
    "\n",
    "# Parse the sentence and extract complex NPs\n",
    "tree = chunk_parser.parse(tagged_sentence)\n",
    "tree.pretty_print()\n"
   ]
  },
  {
   "cell_type": "code",
   "execution_count": null,
   "metadata": {
    "colab": {
     "base_uri": "https://localhost:8080/"
    },
    "id": "EDSCKkFO-B9o",
    "outputId": "3491f366-d21c-40ba-e036-2d495ab6c4d6"
   },
   "outputs": [
    {
     "name": "stdout",
     "output_type": "stream",
     "text": [
      "              S               \n",
      "      ________|_____           \n",
      "     |              VP        \n",
      "     |         _____|___       \n",
      "     NP       |         NP    \n",
      "  ___|___     |      ___|___   \n",
      "Det      N    V    Det      N \n",
      " |       |    |     |       |  \n",
      "The     cat chased  a      dog\n",
      "\n"
     ]
    }
   ],
   "source": [
    "import nltk\n",
    "from nltk import PCFG\n",
    "\n",
    "# Define the probabilistic grammar\n",
    "grammar = PCFG.fromstring(\"\"\"\n",
    "  S -> NP VP [1.0]\n",
    "  NP -> Det N [0.5] | Det N PP [0.5]\n",
    "  VP -> V NP [0.6] | V [0.4]\n",
    "  PP -> P NP [1.0]\n",
    "  Det -> 'The' [0.6] | 'a' [0.4]\n",
    "  N -> 'cat' [0.4] | 'dog' [0.6]\n",
    "  V -> 'chased' [0.7] | 'saw' [0.3]\n",
    "  P -> 'on' [0.5] | 'with' [0.5]\n",
    "\"\"\")\n",
    "\n",
    "# Sentence\n",
    "sentence = ['The', 'cat', 'chased', 'a', 'dog']\n",
    "\n",
    "# Parse the sentence using PCFG\n",
    "parser = nltk.ViterbiParser(grammar)\n",
    "for tree in parser.parse(sentence):\n",
    "    tree.pretty_print()\n"
   ]
  },
  {
   "cell_type": "code",
   "execution_count": null,
   "metadata": {
    "id": "dAuqJ3_8-CAF"
   },
   "outputs": [],
   "source": []
  },
  {
   "cell_type": "code",
   "execution_count": null,
   "metadata": {
    "id": "3iVZGxLm-CDc"
   },
   "outputs": [],
   "source": []
  }
 ],
 "metadata": {
  "colab": {
   "provenance": []
  },
  "kernelspec": {
   "display_name": "Python 3 (ipykernel)",
   "language": "python",
   "name": "python3"
  },
  "language_info": {
   "codemirror_mode": {
    "name": "ipython",
    "version": 3
   },
   "file_extension": ".py",
   "mimetype": "text/x-python",
   "name": "python",
   "nbconvert_exporter": "python",
   "pygments_lexer": "ipython3",
   "version": "3.11.4"
  }
 },
 "nbformat": 4,
 "nbformat_minor": 1
}
