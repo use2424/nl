{
 "cells": [
  {
   "cell_type": "code",
   "execution_count": null,
   "metadata": {
    "colab": {
     "base_uri": "https://localhost:8080/"
    },
    "id": "KrZRp4N-8nfn",
    "outputId": "b1d6b8d3-795e-469a-f017-5c81bf8ebe4b"
   },
   "outputs": [
    {
     "name": "stdout",
     "output_type": "stream",
     "text": [
      "             S                     \n",
      "      _______|_______               \n",
      "     |               VP            \n",
      "     |        _______|___           \n",
      "     |       |           PP        \n",
      "     |       |    _______|___       \n",
      "     NP      |   |           NP    \n",
      "  ___|___    |   |        ___|___   \n",
      "Det      N   V   P      Det      N \n",
      " |       |   |   |       |       |  \n",
      "The     cat sat  on     The     mat\n",
      "\n"
     ]
    }
   ],
   "source": [
    "'''Write a Python program using NLTK to define a context-free grammar (CFG) that can parse simple sentences like \"The cat sat on the mat.\"\n",
    "Use this grammar to generate the parse tree for the sentence. '''\n",
    "import nltk\n",
    "from nltk import CFG\n",
    "\n",
    "# Define the CFG\n",
    "grammar = CFG.fromstring(\"\"\"\n",
    "  S -> NP VP\n",
    "  NP -> Det N\n",
    "  VP -> V PP\n",
    "  PP -> P NP\n",
    "  Det -> 'The'\n",
    "  N -> 'cat' | 'mat'\n",
    "  V -> 'sat'\n",
    "  P -> 'on'\n",
    "\"\"\")\n",
    "\n",
    "# Define the sentence (fix 'the' to 'The')\n",
    "sentence = ['The', 'cat', 'sat', 'on', 'The', 'mat']\n",
    "\n",
    "# Create a parser\n",
    "parser = nltk.ChartParser(grammar)\n",
    "\n",
    "# Generate and display the parse tree\n",
    "for tree in parser.parse(sentence):\n",
    "    tree.pretty_print()\n"
   ]
  },
  {
   "cell_type": "code",
   "execution_count": 2,
   "metadata": {
    "id": "Yiw0PtDk-Bhz"
   },
   "outputs": [
    {
     "name": "stdout",
     "output_type": "stream",
     "text": [
      "\n",
      "Parse Tree 1:\n",
      "(S\n",
      "  (NP I)\n",
      "  (VP\n",
      "    (VP (V saw) (NP (Det the) (N man)))\n",
      "    (PP (P with) (NP (Det the) (N telescope)))))\n",
      "     S                                    \n",
      "  ___|___________                          \n",
      " |               VP                       \n",
      " |        _______|________                 \n",
      " |       VP               PP              \n",
      " |    ___|___         ____|___             \n",
      " |   |       NP      |        NP          \n",
      " |   |    ___|___    |     ___|______      \n",
      " NP  V  Det      N   P   Det         N    \n",
      " |   |   |       |   |    |          |     \n",
      " I  saw the     man with the     telescope\n",
      "\n",
      "\n",
      "Parse Tree 2:\n",
      "(S\n",
      "  (NP I)\n",
      "  (VP\n",
      "    (V saw)\n",
      "    (NP\n",
      "      (NP (Det the) (N man))\n",
      "      (PP (P with) (NP (Det the) (N telescope))))))\n",
      "     S                                    \n",
      "  ___|___________                          \n",
      " |               VP                       \n",
      " |    ___________|___                      \n",
      " |   |               NP                   \n",
      " |   |        _______|____                 \n",
      " |   |       |            PP              \n",
      " |   |       |        ____|___             \n",
      " |   |       NP      |        NP          \n",
      " |   |    ___|___    |     ___|______      \n",
      " NP  V  Det      N   P   Det         N    \n",
      " |   |   |       |   |    |          |     \n",
      " I  saw the     man with the     telescope\n",
      "\n"
     ]
    }
   ],
   "source": [
    "'''Using NLTK, write a function that takes a sentence as input and returns all possible parse trees using a given CFG. \n",
    "Demonstrate this function with the sentence \"I saw the man with the telescope.\" '''\n",
    "\n",
    "import nltk\n",
    "from nltk import CFG\n",
    "from nltk.parse.generate import generate\n",
    "from nltk.parse.chart import ChartParser\n",
    "\n",
    "# Define the ambiguous grammar\n",
    "grammar = CFG.fromstring(\"\"\"\n",
    "S -> NP VP\n",
    "VP -> V NP | VP PP\n",
    "PP -> P NP\n",
    "NP -> Det N | NP PP | 'I'\n",
    "V -> 'saw'\n",
    "Det -> 'the'\n",
    "N -> 'man' | 'telescope'\n",
    "P -> 'with'\n",
    "\"\"\")\n",
    "\n",
    "# Function to parse sentence\n",
    "def parse_sentence(sentence):\n",
    "    parser = ChartParser(grammar)\n",
    "    tokens = sentence.split()\n",
    "    trees = list(parser.parse(tokens))\n",
    "    return trees\n",
    "\n",
    "# Sentence to parse\n",
    "sentence = \"I saw the man with the telescope\"\n",
    "parse_trees = parse_sentence(sentence)\n",
    "\n",
    "# Display all possible parse trees\n",
    "for i, tree in enumerate(parse_trees, 1):\n",
    "    print(f\"\\nParse Tree {i}:\")\n",
    "    print(tree)\n",
    "    tree.pretty_print()\n"
   ]
  },
  {
   "cell_type": "code",
   "execution_count": 3,
   "metadata": {
    "id": "pmM6I5dZ-Bkq"
   },
   "outputs": [
    {
     "name": "stdout",
     "output_type": "stream",
     "text": [
      "(S (NP (Pronoun She)) (VP (V eats) (NP (Det a) (N sandwich))))\n",
      "              S                  \n",
      "    __________|___                \n",
      "   |              VP             \n",
      "   |      ________|___            \n",
      "   NP    |            NP         \n",
      "   |     |         ___|_____      \n",
      "Pronoun  V       Det        N    \n",
      "   |     |        |         |     \n",
      "  She   eats      a      sandwich\n",
      "\n"
     ]
    }
   ],
   "source": [
    "'''Write a Python program using NLTK to create a recursive descent parser for a given CFG. \n",
    "Parse the sentence \"She eats a sandwich.\" and display the parse tree. '''\n",
    "\n",
    "\n",
    "import nltk\n",
    "from nltk import CFG\n",
    "from nltk.parse import RecursiveDescentParser\n",
    "\n",
    "# Define a simple grammar\n",
    "grammar = CFG.fromstring(\"\"\"\n",
    "S -> NP VP\n",
    "NP -> Pronoun | Det N\n",
    "VP -> V NP\n",
    "Det -> 'a'\n",
    "N -> 'sandwich'\n",
    "V -> 'eats'\n",
    "Pronoun -> 'She'\n",
    "\"\"\")\n",
    "\n",
    "# Create a recursive descent parser\n",
    "parser = RecursiveDescentParser(grammar)\n",
    "\n",
    "# Sentence to parse\n",
    "sentence = \"She eats a sandwich\".split()\n",
    "\n",
    "# Parse and display the tree\n",
    "for tree in parser.parse(sentence):\n",
    "    print(tree)\n",
    "    tree.pretty_print()\n"
   ]
  },
  {
   "cell_type": "code",
   "execution_count": null,
   "metadata": {
    "id": "dAuqJ3_8-CAF"
   },
   "outputs": [],
   "source": []
  },
  {
   "cell_type": "code",
   "execution_count": null,
   "metadata": {
    "id": "3iVZGxLm-CDc"
   },
   "outputs": [],
   "source": []
  }
 ],
 "metadata": {
  "colab": {
   "provenance": []
  },
  "kernelspec": {
   "display_name": "Python 3 (ipykernel)",
   "language": "python",
   "name": "python3"
  },
  "language_info": {
   "codemirror_mode": {
    "name": "ipython",
    "version": 3
   },
   "file_extension": ".py",
   "mimetype": "text/x-python",
   "name": "python",
   "nbconvert_exporter": "python",
   "pygments_lexer": "ipython3",
   "version": "3.11.4"
  }
 },
 "nbformat": 4,
 "nbformat_minor": 1
}
