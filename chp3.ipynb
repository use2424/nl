{
 "cells": [
  {
   "cell_type": "markdown",
   "metadata": {
    "id": "A0_ASFtfEtx6"
   },
   "source": [
    "# **Question:1 Write a Python program to download the text of \"Pride and Prejudice\" by Jane Austen from Project Gutenberg, tokenize the text, and display the first 10 tokens. **"
   ]
  },
  {
   "cell_type": "code",
   "execution_count": null,
   "metadata": {
    "colab": {
     "base_uri": "https://localhost:8080/"
    },
    "id": "sIlCBv10EqCG",
    "outputId": "9e006b65-f865-4e37-b0eb-906b1e3da21c"
   },
   "outputs": [
    {
     "name": "stderr",
     "output_type": "stream",
     "text": [
      "[nltk_data] Downloading package punkt_tab to /root/nltk_data...\n",
      "[nltk_data]   Unzipping tokenizers/punkt_tab.zip.\n"
     ]
    },
    {
     "name": "stdout",
     "output_type": "stream",
     "text": [
      "['*', '*', '*', 'START', 'OF', 'THE', 'PROJECT', 'GUTENBERG', 'EBOOK', '1342']\n"
     ]
    }
   ],
   "source": [
    "import nltk\n",
    "from nltk.tokenize import word_tokenize\n",
    "import requests\n",
    "\n",
    "# Download the 'punkt_tab' resource\n",
    "nltk.download('punkt_tab')\n",
    "\n",
    "# Download the text of \"Pride and Prejudice\" from Project Gutenberg\n",
    "url = \"https://www.gutenberg.org/files/1342/1342-0.txt\"\n",
    "response = requests.get(url)\n",
    "text = response.text\n",
    "\n",
    "# Tokenize the text\n",
    "tokens = word_tokenize(text)\n",
    "\n",
    "# Display the first 10 tokens\n",
    "print(tokens[:10])"
   ]
  },
  {
   "cell_type": "markdown",
   "metadata": {
    "id": "HTYvMJhcE6xp"
   },
   "source": [
    "# **Question:2 Using NLTK, write a function that takes a URL as input, fetches the raw text from the webpage, and returns the number of words in the text. **"
   ]
  },
  {
   "cell_type": "code",
   "execution_count": null,
   "metadata": {
    "colab": {
     "base_uri": "https://localhost:8080/"
    },
    "id": "XqKzzqYrHyMr",
    "outputId": "6d7da4a6-498a-4c7e-8ac4-723c56fed64c"
   },
   "outputs": [
    {
     "name": "stdout",
     "output_type": "stream",
     "text": [
      "Word count: 151046\n"
     ]
    }
   ],
   "source": [
    "import nltk\n",
    "import requests\n",
    "from nltk.tokenize import word_tokenize\n",
    "\n",
    "def count_words_from_url(url):\n",
    "    # Fetch raw text from the URL\n",
    "    response = requests.get(url)\n",
    "    text = response.text\n",
    "\n",
    "    # Tokenize the text\n",
    "    tokens = word_tokenize(text)\n",
    "\n",
    "    # Return the number of words\n",
    "    return len(tokens)\n",
    "\n",
    "# Example usage\n",
    "url = 'https://www.gutenberg.org/files/1342/1342-0.txt'  # \"Pride and Prejudice\"\n",
    "word_count = count_words_from_url(url)\n",
    "print(f\"Word count: {word_count}\")\n"
   ]
  },
  {
   "cell_type": "markdown",
   "metadata": {
    "id": "X8XB3p0tH4S7"
   },
   "source": [
    "Question:3 Explain how to remove HTML tags from a web page's content using Python and NLTK. Provide a code example that fetches a web page, removes HTML tags, and prints the cleaned text."
   ]
  },
  {
   "cell_type": "code",
   "execution_count": null,
   "metadata": {
    "colab": {
     "base_uri": "https://localhost:8080/"
    },
    "id": "MiBytuPiIb8k",
    "outputId": "2bea223d-3695-4b89-a6bd-1c4b0313545f"
   },
   "outputs": [
    {
     "name": "stdout",
     "output_type": "stream",
     "text": [
      "*** START OF THE PROJECT GUTENBERG EBOOK 1342 ***\r\n",
      "                            [Illustration:\r\n",
      "\r\n",
      "                             GEORGE ALLEN\r\n",
      "                               PUBLISHER\r\n",
      "\r\n",
      "                        156 CHARING CROSS ROAD\r\n",
      "                                LONDON\r\n",
      "\r\n",
      "                             RUSKIN HOUSE\r\n",
      "                                   ]\r\n",
      "\r\n",
      "                            [Illustration:\r\n",
      "\r\n",
      "               _Reading Jane’s Letters._      _Chap 34._\r\n",
      "                                   ]\r\n",
      "\r\n"
     ]
    }
   ],
   "source": [
    "import requests\n",
    "from bs4 import BeautifulSoup\n",
    "\n",
    "def remove_html_tags(url):\n",
    "    # Fetch the web page content\n",
    "    response = requests.get(url)\n",
    "    html_content = response.text\n",
    "\n",
    "    # Parse HTML content and remove tags\n",
    "    soup = BeautifulSoup(html_content, 'html.parser')\n",
    "    text = soup.get_text()\n",
    "\n",
    "    return text\n",
    "\n",
    "# Example usage\n",
    "url = 'https://www.gutenberg.org/files/1342/1342-0.txt'  # \"Pride and Prejudice\"\n",
    "clean_text = remove_html_tags(url)\n",
    "print(clean_text[:500])  # Display the first 500 characters of cleaned text\n"
   ]
  }
 ],
 "metadata": {
  "colab": {
   "provenance": []
  },
  "kernelspec": {
   "display_name": "Python 3 (ipykernel)",
   "language": "python",
   "name": "python3"
  },
  "language_info": {
   "codemirror_mode": {
    "name": "ipython",
    "version": 3
   },
   "file_extension": ".py",
   "mimetype": "text/x-python",
   "name": "python",
   "nbconvert_exporter": "python",
   "pygments_lexer": "ipython3",
   "version": "3.11.4"
  }
 },
 "nbformat": 4,
 "nbformat_minor": 1
}
