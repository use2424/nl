{
 "cells": [
  {
   "cell_type": "code",
   "execution_count": 1,
   "id": "3728776d",
   "metadata": {},
   "outputs": [
    {
     "name": "stdout",
     "output_type": "stream",
     "text": [
      "Original List after direct assignment: [99, 2, 3]\n",
      "New List after direct assignment: [99, 2, 3]\n",
      "Original List after copy: [1, 2, 3]\n",
      "New List after copy: [99, 2, 3]\n"
     ]
    }
   ],
   "source": [
    "#Q1Explain the difference between assigning a list to a new variable using direct assignment (=) and using the copy() method. \n",
    "#Provide code examples to illustrate the difference. \n",
    "# Direct assignment (=) example\n",
    "original_list = [1, 2, 3]\n",
    "new_list = original_list\n",
    "new_list[0] = 99\n",
    "print(\"Original List after direct assignment:\", original_list)\n",
    "print(\"New List after direct assignment:\", new_list)\n",
    "\n",
    "# Using the copy() method\n",
    "original_list = [1, 2, 3]\n",
    "new_list_copy = original_list.copy()\n",
    "new_list_copy[0] = 99\n",
    "print(\"Original List after copy:\", original_list)\n",
    "print(\"New List after copy:\", new_list_copy)\n"
   ]
  },
  {
   "cell_type": "code",
   "execution_count": 2,
   "id": "17a6bc83",
   "metadata": {},
   "outputs": [
    {
     "name": "stderr",
     "output_type": "stream",
     "text": [
      "[nltk_data] Downloading package punkt to\n",
      "[nltk_data]     C:\\Users\\Admin\\AppData\\Roaming\\nltk_data...\n",
      "[nltk_data]   Package punkt is already up-to-date!\n",
      "[nltk_data] Downloading package averaged_perceptron_tagger to\n",
      "[nltk_data]     C:\\Users\\Admin\\AppData\\Roaming\\nltk_data...\n"
     ]
    },
    {
     "name": "stdout",
     "output_type": "stream",
     "text": [
      "['brown', 'fox', 'dog']\n"
     ]
    },
    {
     "name": "stderr",
     "output_type": "stream",
     "text": [
      "[nltk_data]   Unzipping taggers\\averaged_perceptron_tagger.zip.\n"
     ]
    }
   ],
   "source": [
    "#Q2'''Write a function extract_nouns(text) that takes a text string as input and returns a list of all nouns in the text.\n",
    "Use NLTK's part-of-speech tagging for this task. '''\n",
    "import nltk\n",
    "from nltk.tokenize import word_tokenize\n",
    "from nltk import pos_tag\n",
    "\n",
    "nltk.download('punkt')\n",
    "nltk.download('averaged_perceptron_tagger')\n",
    "\n",
    "def extract_nouns(text):\n",
    "    words = word_tokenize(text)\n",
    "    tagged = pos_tag(words)\n",
    "    return [word for word, tag in tagged if tag in ['NN', 'NNS', 'NNP', 'NNPS']]\n",
    "\n",
    "# Example usage\n",
    "text = \"The quick brown fox jumped over the lazy dog.\"\n",
    "print(extract_nouns(text))\n"
   ]
  },
  {
   "cell_type": "code",
   "execution_count": 3,
   "id": "1426691c",
   "metadata": {},
   "outputs": [
    {
     "name": "stdout",
     "output_type": "stream",
     "text": [
      "[3, 5, 5, 3, 5, 4, 3, 4, 3]\n"
     ]
    }
   ],
   "source": [
    "#Q3Demonstrate how to use list comprehension\n",
    "#to create a list of the lengths of each word in a given sentence. \n",
    "sentence = \"The quick brown fox jumps over the lazy dog\"\n",
    "word_lengths = [len(word) for word in sentence.split()]\n",
    "print(word_lengths)\n"
   ]
  },
  {
   "cell_type": "code",
   "execution_count": null,
   "id": "1bb87725",
   "metadata": {},
   "outputs": [],
   "source": []
  }
 ],
 "metadata": {
  "kernelspec": {
   "display_name": "Python 3 (ipykernel)",
   "language": "python",
   "name": "python3"
  },
  "language_info": {
   "codemirror_mode": {
    "name": "ipython",
    "version": 3
   },
   "file_extension": ".py",
   "mimetype": "text/x-python",
   "name": "python",
   "nbconvert_exporter": "python",
   "pygments_lexer": "ipython3",
   "version": "3.11.4"
  }
 },
 "nbformat": 4,
 "nbformat_minor": 5
}
